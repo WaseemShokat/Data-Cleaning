{
 "cells": [
  {
   "cell_type": "code",
   "execution_count": null,
   "id": "ed84e0fa",
   "metadata": {},
   "outputs": [],
   "source": [
    "#remove outlier of realSum by percentile technique\n",
    "#remove outlier of realSum by Zscore\n",
    "#Remove outlier of realSum by Modified Zscore"
   ]
  },
  {
   "cell_type": "code",
   "execution_count": 1,
   "id": "580762ab",
   "metadata": {},
   "outputs": [],
   "source": [
    "import pandas as pd\n",
    "import numpy as np\n",
    "import seaborn as sn\n",
    "import matplotlib.pyplot as plt\n",
    "%matplotlib inline"
   ]
  },
  {
   "cell_type": "code",
   "execution_count": 2,
   "id": "7c858156",
   "metadata": {},
   "outputs": [
    {
     "data": {
      "text/html": [
       "<div>\n",
       "<style scoped>\n",
       "    .dataframe tbody tr th:only-of-type {\n",
       "        vertical-align: middle;\n",
       "    }\n",
       "\n",
       "    .dataframe tbody tr th {\n",
       "        vertical-align: top;\n",
       "    }\n",
       "\n",
       "    .dataframe thead th {\n",
       "        text-align: right;\n",
       "    }\n",
       "</style>\n",
       "<table border=\"1\" class=\"dataframe\">\n",
       "  <thead>\n",
       "    <tr style=\"text-align: right;\">\n",
       "      <th></th>\n",
       "      <th>Unnamed: 0</th>\n",
       "      <th>realSum</th>\n",
       "      <th>room_type</th>\n",
       "      <th>room_shared</th>\n",
       "      <th>room_private</th>\n",
       "      <th>person_capacity</th>\n",
       "      <th>host_is_superhost</th>\n",
       "      <th>multi</th>\n",
       "      <th>biz</th>\n",
       "      <th>cleanliness_rating</th>\n",
       "      <th>guest_satisfaction_overall</th>\n",
       "      <th>bedrooms</th>\n",
       "      <th>dist</th>\n",
       "      <th>metro_dist</th>\n",
       "      <th>attr_index</th>\n",
       "      <th>attr_index_norm</th>\n",
       "      <th>rest_index</th>\n",
       "      <th>rest_index_norm</th>\n",
       "      <th>lng</th>\n",
       "      <th>lat</th>\n",
       "    </tr>\n",
       "  </thead>\n",
       "  <tbody>\n",
       "    <tr>\n",
       "      <th>0</th>\n",
       "      <td>0</td>\n",
       "      <td>194.033698</td>\n",
       "      <td>Private room</td>\n",
       "      <td>False</td>\n",
       "      <td>True</td>\n",
       "      <td>2.0</td>\n",
       "      <td>False</td>\n",
       "      <td>1</td>\n",
       "      <td>0</td>\n",
       "      <td>10.0</td>\n",
       "      <td>93.0</td>\n",
       "      <td>1</td>\n",
       "      <td>5.022964</td>\n",
       "      <td>2.539380</td>\n",
       "      <td>78.690379</td>\n",
       "      <td>4.166708</td>\n",
       "      <td>98.253896</td>\n",
       "      <td>6.846473</td>\n",
       "      <td>4.90569</td>\n",
       "      <td>52.41772</td>\n",
       "    </tr>\n",
       "    <tr>\n",
       "      <th>1</th>\n",
       "      <td>1</td>\n",
       "      <td>344.245776</td>\n",
       "      <td>Private room</td>\n",
       "      <td>False</td>\n",
       "      <td>True</td>\n",
       "      <td>4.0</td>\n",
       "      <td>False</td>\n",
       "      <td>0</td>\n",
       "      <td>0</td>\n",
       "      <td>8.0</td>\n",
       "      <td>85.0</td>\n",
       "      <td>1</td>\n",
       "      <td>0.488389</td>\n",
       "      <td>0.239404</td>\n",
       "      <td>631.176378</td>\n",
       "      <td>33.421209</td>\n",
       "      <td>837.280757</td>\n",
       "      <td>58.342928</td>\n",
       "      <td>4.90005</td>\n",
       "      <td>52.37432</td>\n",
       "    </tr>\n",
       "    <tr>\n",
       "      <th>2</th>\n",
       "      <td>2</td>\n",
       "      <td>264.101422</td>\n",
       "      <td>Private room</td>\n",
       "      <td>False</td>\n",
       "      <td>True</td>\n",
       "      <td>2.0</td>\n",
       "      <td>False</td>\n",
       "      <td>0</td>\n",
       "      <td>1</td>\n",
       "      <td>9.0</td>\n",
       "      <td>87.0</td>\n",
       "      <td>1</td>\n",
       "      <td>5.748312</td>\n",
       "      <td>3.651621</td>\n",
       "      <td>75.275877</td>\n",
       "      <td>3.985908</td>\n",
       "      <td>95.386955</td>\n",
       "      <td>6.646700</td>\n",
       "      <td>4.97512</td>\n",
       "      <td>52.36103</td>\n",
       "    </tr>\n",
       "    <tr>\n",
       "      <th>3</th>\n",
       "      <td>3</td>\n",
       "      <td>433.529398</td>\n",
       "      <td>Private room</td>\n",
       "      <td>False</td>\n",
       "      <td>True</td>\n",
       "      <td>4.0</td>\n",
       "      <td>False</td>\n",
       "      <td>0</td>\n",
       "      <td>1</td>\n",
       "      <td>9.0</td>\n",
       "      <td>90.0</td>\n",
       "      <td>2</td>\n",
       "      <td>0.384862</td>\n",
       "      <td>0.439876</td>\n",
       "      <td>493.272534</td>\n",
       "      <td>26.119108</td>\n",
       "      <td>875.033098</td>\n",
       "      <td>60.973565</td>\n",
       "      <td>4.89417</td>\n",
       "      <td>52.37663</td>\n",
       "    </tr>\n",
       "    <tr>\n",
       "      <th>4</th>\n",
       "      <td>4</td>\n",
       "      <td>485.552926</td>\n",
       "      <td>Private room</td>\n",
       "      <td>False</td>\n",
       "      <td>True</td>\n",
       "      <td>2.0</td>\n",
       "      <td>True</td>\n",
       "      <td>0</td>\n",
       "      <td>0</td>\n",
       "      <td>10.0</td>\n",
       "      <td>98.0</td>\n",
       "      <td>1</td>\n",
       "      <td>0.544738</td>\n",
       "      <td>0.318693</td>\n",
       "      <td>552.830324</td>\n",
       "      <td>29.272733</td>\n",
       "      <td>815.305740</td>\n",
       "      <td>56.811677</td>\n",
       "      <td>4.90051</td>\n",
       "      <td>52.37508</td>\n",
       "    </tr>\n",
       "  </tbody>\n",
       "</table>\n",
       "</div>"
      ],
      "text/plain": [
       "   Unnamed: 0     realSum     room_type  room_shared  room_private  \\\n",
       "0           0  194.033698  Private room        False          True   \n",
       "1           1  344.245776  Private room        False          True   \n",
       "2           2  264.101422  Private room        False          True   \n",
       "3           3  433.529398  Private room        False          True   \n",
       "4           4  485.552926  Private room        False          True   \n",
       "\n",
       "   person_capacity  host_is_superhost  multi  biz  cleanliness_rating  \\\n",
       "0              2.0              False      1    0                10.0   \n",
       "1              4.0              False      0    0                 8.0   \n",
       "2              2.0              False      0    1                 9.0   \n",
       "3              4.0              False      0    1                 9.0   \n",
       "4              2.0               True      0    0                10.0   \n",
       "\n",
       "   guest_satisfaction_overall  bedrooms      dist  metro_dist  attr_index  \\\n",
       "0                        93.0         1  5.022964    2.539380   78.690379   \n",
       "1                        85.0         1  0.488389    0.239404  631.176378   \n",
       "2                        87.0         1  5.748312    3.651621   75.275877   \n",
       "3                        90.0         2  0.384862    0.439876  493.272534   \n",
       "4                        98.0         1  0.544738    0.318693  552.830324   \n",
       "\n",
       "   attr_index_norm  rest_index  rest_index_norm      lng       lat  \n",
       "0         4.166708   98.253896         6.846473  4.90569  52.41772  \n",
       "1        33.421209  837.280757        58.342928  4.90005  52.37432  \n",
       "2         3.985908   95.386955         6.646700  4.97512  52.36103  \n",
       "3        26.119108  875.033098        60.973565  4.89417  52.37663  \n",
       "4        29.272733  815.305740        56.811677  4.90051  52.37508  "
      ]
     },
     "execution_count": 2,
     "metadata": {},
     "output_type": "execute_result"
    }
   ],
   "source": [
    "df = pd.read_csv(\"amsterdam_weekdays.csv\")\n",
    "df.head()"
   ]
  },
  {
   "cell_type": "code",
   "execution_count": 3,
   "id": "941e3b04",
   "metadata": {},
   "outputs": [
    {
     "data": {
      "text/plain": [
       "count    1103.000000\n",
       "mean      545.020526\n",
       "std       416.974314\n",
       "min       128.887118\n",
       "25%       309.797764\n",
       "50%       430.248635\n",
       "75%       657.324303\n",
       "max      7782.907225\n",
       "Name: realSum, dtype: float64"
      ]
     },
     "execution_count": 3,
     "metadata": {},
     "output_type": "execute_result"
    }
   ],
   "source": [
    "df.realSum.describe()"
   ]
  },
  {
   "cell_type": "code",
   "execution_count": 11,
   "id": "8ee083f5",
   "metadata": {},
   "outputs": [
    {
     "data": {
      "text/plain": [
       "<AxesSubplot:xlabel='realSum', ylabel='Count'>"
      ]
     },
     "execution_count": 11,
     "metadata": {},
     "output_type": "execute_result"
    },
    {
     "data": {
      "image/png": "[encoded data removed]",
      "text/plain": [
       "<Figure size 640x480 with 1 Axes>"
      ]
     },
     "metadata": {},
     "output_type": "display_data"
    }
   ],
   "source": [
    "sn.histplot(df.realSum, kde=True)"
   ]
  },
  {
   "cell_type": "code",
   "execution_count": 5,
   "id": "7e6ac1ae",
   "metadata": {},
   "outputs": [
    {
     "data": {
      "text/plain": [
       "545.0205264394511"
      ]
     },
     "execution_count": 5,
     "metadata": {},
     "output_type": "execute_result"
    }
   ],
   "source": [
    "mean = df.realSum.mean()\n",
    "mean"
   ]
  },
  {
   "cell_type": "code",
   "execution_count": 6,
   "id": "e3b7feb3",
   "metadata": {},
   "outputs": [
    {
     "data": {
      "text/plain": [
       "416.97431382908763"
      ]
     },
     "execution_count": 6,
     "metadata": {},
     "output_type": "execute_result"
    }
   ],
   "source": [
    "standard_deviation = df.realSum.std()\n",
    "standard_deviation"
   ]
  },
  {
   "cell_type": "code",
   "execution_count": 18,
   "id": "d7ce5bf6",
   "metadata": {},
   "outputs": [
    {
     "data": {
      "text/plain": [
       "(-288.9281012187241, 1378.9691540976264)"
      ]
     },
     "execution_count": 18,
     "metadata": {},
     "output_type": "execute_result"
    }
   ],
   "source": [
    "#upper outlier and lower outlier\n",
    "lower_outlier = mean - 2*standard_deviation\n",
    "upper_outlier = mean + 2*standard_deviation\n",
    "lower_outlier, upper_outlier"
   ]
  },
  {
   "cell_type": "code",
   "execution_count": 25,
   "id": "c1154fb4",
   "metadata": {},
   "outputs": [
    {
     "data": {
      "text/html": [
       "<div>\n",
       "<style scoped>\n",
       "    .dataframe tbody tr th:only-of-type {\n",
       "        vertical-align: middle;\n",
       "    }\n",
       "\n",
       "    .dataframe tbody tr th {\n",
       "        vertical-align: top;\n",
       "    }\n",
       "\n",
       "    .dataframe thead th {\n",
       "        text-align: right;\n",
       "    }\n",
       "</style>\n",
       "<table border=\"1\" class=\"dataframe\">\n",
       "  <thead>\n",
       "    <tr style=\"text-align: right;\">\n",
       "      <th></th>\n",
       "      <th>Unnamed: 0</th>\n",
       "      <th>realSum</th>\n",
       "      <th>room_type</th>\n",
       "      <th>room_shared</th>\n",
       "      <th>room_private</th>\n",
       "      <th>person_capacity</th>\n",
       "      <th>host_is_superhost</th>\n",
       "      <th>multi</th>\n",
       "      <th>biz</th>\n",
       "      <th>cleanliness_rating</th>\n",
       "      <th>guest_satisfaction_overall</th>\n",
       "      <th>bedrooms</th>\n",
       "      <th>dist</th>\n",
       "      <th>metro_dist</th>\n",
       "      <th>attr_index</th>\n",
       "      <th>attr_index_norm</th>\n",
       "      <th>rest_index</th>\n",
       "      <th>rest_index_norm</th>\n",
       "      <th>lng</th>\n",
       "      <th>lat</th>\n",
       "    </tr>\n",
       "  </thead>\n",
       "  <tbody>\n",
       "  </tbody>\n",
       "</table>\n",
       "</div>"
      ],
      "text/plain": [
       "Empty DataFrame\n",
       "Columns: [Unnamed: 0, realSum, room_type, room_shared, room_private, person_capacity, host_is_superhost, multi, biz, cleanliness_rating, guest_satisfaction_overall, bedrooms, dist, metro_dist, attr_index, attr_index_norm, rest_index, rest_index_norm, lng, lat]\n",
       "Index: []"
      ]
     },
     "execution_count": 25,
     "metadata": {},
     "output_type": "execute_result"
    }
   ],
   "source": [
    "df_lowerlier = df[df.realSum < -288.9281012187241]\n",
    "df_lowerlier"
   ]
  },
  {
   "cell_type": "code",
   "execution_count": 24,
   "id": "318e78eb",
   "metadata": {},
   "outputs": [
    {
     "data": {
      "text/plain": [
       "(36, 20)"
      ]
     },
     "execution_count": 24,
     "metadata": {},
     "output_type": "execute_result"
    }
   ],
   "source": [
    "df_outlier = df[df.realSum > 1378.9691540976264]\n",
    "df_outlier.shape"
   ]
  },
  {
   "cell_type": "code",
   "execution_count": 35,
   "id": "bdd4d249",
   "metadata": {},
   "outputs": [
    {
     "data": {
      "text/plain": [
       "(36, 21)"
      ]
     },
     "execution_count": 35,
     "metadata": {},
     "output_type": "execute_result"
    }
   ],
   "source": [
    "outlier = df[ (df.realSum < -288.9281012187241) | (df.realSum > 1378.9691540976264)]\n",
    "outlier.shape"
   ]
  },
  {
   "cell_type": "code",
   "execution_count": 27,
   "id": "e0d21ebd",
   "metadata": {},
   "outputs": [
    {
     "data": {
      "text/plain": [
       "(1067, 20)"
      ]
     },
     "execution_count": 27,
     "metadata": {},
     "output_type": "execute_result"
    }
   ],
   "source": [
    "df_no_outlier = df[ (df.realSum > -288.9281012187241) & (df.realSum < 1378.9691540976264)]\n",
    "df_no_outlier.shape"
   ]
  },
  {
   "cell_type": "code",
   "execution_count": 29,
   "id": "23e6212a",
   "metadata": {},
   "outputs": [
    {
     "data": {
      "text/plain": [
       "count    1067.000000\n",
       "mean      495.137375\n",
       "std       249.801186\n",
       "min       128.887118\n",
       "25%       307.220022\n",
       "50%       420.406346\n",
       "75%       632.952921\n",
       "max      1376.514424\n",
       "Name: realSum, dtype: float64"
      ]
     },
     "execution_count": 29,
     "metadata": {},
     "output_type": "execute_result"
    }
   ],
   "source": [
    "df_no_outlier.realSum.describe()"
   ]
  },
  {
   "cell_type": "code",
   "execution_count": 30,
   "id": "7c1aba2a",
   "metadata": {},
   "outputs": [
    {
     "data": {
      "text/plain": [
       "<AxesSubplot:xlabel='realSum', ylabel='Count'>"
      ]
     },
     "execution_count": 30,
     "metadata": {},
     "output_type": "execute_result"
    },
    {
     "data": {
      "image/png": "[encoded data removed]",
      "text/plain": [
       "<Figure size 640x480 with 1 Axes>"
      ]
     },
     "metadata": {},
     "output_type": "display_data"
    }
   ],
   "source": [
    "sn.histplot(df_no_outlier.realSum, kde=True)"
   ]
  },
  {
   "cell_type": "code",
   "execution_count": 32,
   "id": "03e90a04",
   "metadata": {},
   "outputs": [
    {
     "data": {
      "text/html": [
       "<div>\n",
       "<style scoped>\n",
       "    .dataframe tbody tr th:only-of-type {\n",
       "        vertical-align: middle;\n",
       "    }\n",
       "\n",
       "    .dataframe tbody tr th {\n",
       "        vertical-align: top;\n",
       "    }\n",
       "\n",
       "    .dataframe thead th {\n",
       "        text-align: right;\n",
       "    }\n",
       "</style>\n",
       "<table border=\"1\" class=\"dataframe\">\n",
       "  <thead>\n",
       "    <tr style=\"text-align: right;\">\n",
       "      <th></th>\n",
       "      <th>Unnamed: 0</th>\n",
       "      <th>realSum</th>\n",
       "      <th>room_type</th>\n",
       "      <th>room_shared</th>\n",
       "      <th>room_private</th>\n",
       "      <th>person_capacity</th>\n",
       "      <th>host_is_superhost</th>\n",
       "      <th>multi</th>\n",
       "      <th>biz</th>\n",
       "      <th>cleanliness_rating</th>\n",
       "      <th>...</th>\n",
       "      <th>bedrooms</th>\n",
       "      <th>dist</th>\n",
       "      <th>metro_dist</th>\n",
       "      <th>attr_index</th>\n",
       "      <th>attr_index_norm</th>\n",
       "      <th>rest_index</th>\n",
       "      <th>rest_index_norm</th>\n",
       "      <th>lng</th>\n",
       "      <th>lat</th>\n",
       "      <th>zscore</th>\n",
       "    </tr>\n",
       "  </thead>\n",
       "  <tbody>\n",
       "    <tr>\n",
       "      <th>0</th>\n",
       "      <td>0</td>\n",
       "      <td>194.033698</td>\n",
       "      <td>Private room</td>\n",
       "      <td>False</td>\n",
       "      <td>True</td>\n",
       "      <td>2.0</td>\n",
       "      <td>False</td>\n",
       "      <td>1</td>\n",
       "      <td>0</td>\n",
       "      <td>10.0</td>\n",
       "      <td>...</td>\n",
       "      <td>1</td>\n",
       "      <td>5.022964</td>\n",
       "      <td>2.539380</td>\n",
       "      <td>78.690379</td>\n",
       "      <td>4.166708</td>\n",
       "      <td>98.253896</td>\n",
       "      <td>6.846473</td>\n",
       "      <td>4.90569</td>\n",
       "      <td>52.41772</td>\n",
       "      <td>-0.841747</td>\n",
       "    </tr>\n",
       "    <tr>\n",
       "      <th>1</th>\n",
       "      <td>1</td>\n",
       "      <td>344.245776</td>\n",
       "      <td>Private room</td>\n",
       "      <td>False</td>\n",
       "      <td>True</td>\n",
       "      <td>4.0</td>\n",
       "      <td>False</td>\n",
       "      <td>0</td>\n",
       "      <td>0</td>\n",
       "      <td>8.0</td>\n",
       "      <td>...</td>\n",
       "      <td>1</td>\n",
       "      <td>0.488389</td>\n",
       "      <td>0.239404</td>\n",
       "      <td>631.176378</td>\n",
       "      <td>33.421209</td>\n",
       "      <td>837.280757</td>\n",
       "      <td>58.342928</td>\n",
       "      <td>4.90005</td>\n",
       "      <td>52.37432</td>\n",
       "      <td>-0.481504</td>\n",
       "    </tr>\n",
       "    <tr>\n",
       "      <th>2</th>\n",
       "      <td>2</td>\n",
       "      <td>264.101422</td>\n",
       "      <td>Private room</td>\n",
       "      <td>False</td>\n",
       "      <td>True</td>\n",
       "      <td>2.0</td>\n",
       "      <td>False</td>\n",
       "      <td>0</td>\n",
       "      <td>1</td>\n",
       "      <td>9.0</td>\n",
       "      <td>...</td>\n",
       "      <td>1</td>\n",
       "      <td>5.748312</td>\n",
       "      <td>3.651621</td>\n",
       "      <td>75.275877</td>\n",
       "      <td>3.985908</td>\n",
       "      <td>95.386955</td>\n",
       "      <td>6.646700</td>\n",
       "      <td>4.97512</td>\n",
       "      <td>52.36103</td>\n",
       "      <td>-0.673708</td>\n",
       "    </tr>\n",
       "    <tr>\n",
       "      <th>3</th>\n",
       "      <td>3</td>\n",
       "      <td>433.529398</td>\n",
       "      <td>Private room</td>\n",
       "      <td>False</td>\n",
       "      <td>True</td>\n",
       "      <td>4.0</td>\n",
       "      <td>False</td>\n",
       "      <td>0</td>\n",
       "      <td>1</td>\n",
       "      <td>9.0</td>\n",
       "      <td>...</td>\n",
       "      <td>2</td>\n",
       "      <td>0.384862</td>\n",
       "      <td>0.439876</td>\n",
       "      <td>493.272534</td>\n",
       "      <td>26.119108</td>\n",
       "      <td>875.033098</td>\n",
       "      <td>60.973565</td>\n",
       "      <td>4.89417</td>\n",
       "      <td>52.37663</td>\n",
       "      <td>-0.267381</td>\n",
       "    </tr>\n",
       "    <tr>\n",
       "      <th>4</th>\n",
       "      <td>4</td>\n",
       "      <td>485.552926</td>\n",
       "      <td>Private room</td>\n",
       "      <td>False</td>\n",
       "      <td>True</td>\n",
       "      <td>2.0</td>\n",
       "      <td>True</td>\n",
       "      <td>0</td>\n",
       "      <td>0</td>\n",
       "      <td>10.0</td>\n",
       "      <td>...</td>\n",
       "      <td>1</td>\n",
       "      <td>0.544738</td>\n",
       "      <td>0.318693</td>\n",
       "      <td>552.830324</td>\n",
       "      <td>29.272733</td>\n",
       "      <td>815.305740</td>\n",
       "      <td>56.811677</td>\n",
       "      <td>4.90051</td>\n",
       "      <td>52.37508</td>\n",
       "      <td>-0.142617</td>\n",
       "    </tr>\n",
       "  </tbody>\n",
       "</table>\n",
       "<p>5 rows × 21 columns</p>\n",
       "</div>"
      ],
      "text/plain": [
       "   Unnamed: 0     realSum     room_type  room_shared  room_private  \\\n",
       "0           0  194.033698  Private room        False          True   \n",
       "1           1  344.245776  Private room        False          True   \n",
       "2           2  264.101422  Private room        False          True   \n",
       "3           3  433.529398  Private room        False          True   \n",
       "4           4  485.552926  Private room        False          True   \n",
       "\n",
       "   person_capacity  host_is_superhost  multi  biz  cleanliness_rating  ...  \\\n",
       "0              2.0              False      1    0                10.0  ...   \n",
       "1              4.0              False      0    0                 8.0  ...   \n",
       "2              2.0              False      0    1                 9.0  ...   \n",
       "3              4.0              False      0    1                 9.0  ...   \n",
       "4              2.0               True      0    0                10.0  ...   \n",
       "\n",
       "   bedrooms      dist  metro_dist  attr_index  attr_index_norm  rest_index  \\\n",
       "0         1  5.022964    2.539380   78.690379         4.166708   98.253896   \n",
       "1         1  0.488389    0.239404  631.176378        33.421209  837.280757   \n",
       "2         1  5.748312    3.651621   75.275877         3.985908   95.386955   \n",
       "3         2  0.384862    0.439876  493.272534        26.119108  875.033098   \n",
       "4         1  0.544738    0.318693  552.830324        29.272733  815.305740   \n",
       "\n",
       "   rest_index_norm      lng       lat    zscore  \n",
       "0         6.846473  4.90569  52.41772 -0.841747  \n",
       "1        58.342928  4.90005  52.37432 -0.481504  \n",
       "2         6.646700  4.97512  52.36103 -0.673708  \n",
       "3        60.973565  4.89417  52.37663 -0.267381  \n",
       "4        56.811677  4.90051  52.37508 -0.142617  \n",
       "\n",
       "[5 rows x 21 columns]"
      ]
     },
     "execution_count": 32,
     "metadata": {},
     "output_type": "execute_result"
    }
   ],
   "source": [
    "# First I create a column of zscore\n",
    "df['zscore'] = (df.realSum - df.realSum.mean()) / df.realSum.std()\n",
    "df.head()"
   ]
  },
  {
   "cell_type": "code",
   "execution_count": 34,
   "id": "669629c0",
   "metadata": {},
   "outputs": [
    {
     "data": {
      "text/plain": [
       "(36, 21)"
      ]
     },
     "execution_count": 34,
     "metadata": {},
     "output_type": "execute_result"
    }
   ],
   "source": [
    "#I can combine it by using or operation\n",
    "outlier = df[ (df.zscore < -2) | (df.zscore > 2)]\n",
    "outlier.shape"
   ]
  },
  {
   "cell_type": "code",
   "execution_count": 36,
   "id": "ea2e0eb0",
   "metadata": {},
   "outputs": [
    {
     "data": {
      "text/plain": [
       "(1067, 21)"
      ]
     },
     "execution_count": 36,
     "metadata": {},
     "output_type": "execute_result"
    }
   ],
   "source": [
    "#No outlier data I can combine it by using and operation\n",
    "no_outlier = df[ (df.zscore > -2) & (df.zscore < 2)]\n",
    "no_outlier.shape"
   ]
  },
  {
   "cell_type": "code",
   "execution_count": 38,
   "id": "19698cda",
   "metadata": {},
   "outputs": [
    {
     "data": {
      "text/plain": [
       "(545.0205264394511, 416.97431382908763)"
      ]
     },
     "execution_count": 38,
     "metadata": {},
     "output_type": "execute_result"
    }
   ],
   "source": [
    "_, mean, std, *_ = df.realSum.describe()\n",
    "mean, std"
   ]
  },
  {
   "cell_type": "code",
   "execution_count": 39,
   "id": "0a350eae",
   "metadata": {},
   "outputs": [],
   "source": [
    "def get_mad(s):\n",
    "    median = np.median(s)\n",
    "    diff = abs(s-median)\n",
    "    MAD = np.median(diff)\n",
    "    return MAD"
   ]
  },
  {
   "cell_type": "code",
   "execution_count": 40,
   "id": "0a9778a5",
   "metadata": {},
   "outputs": [
    {
     "data": {
      "text/plain": [
       "(150.21207789468752, 430.24863496824696)"
      ]
     },
     "execution_count": 40,
     "metadata": {},
     "output_type": "execute_result"
    }
   ],
   "source": [
    "MAD = get_mad(df.realSum)\n",
    "median = np.median(df.realSum)\n",
    "MAD, median"
   ]
  },
  {
   "cell_type": "code",
   "execution_count": 41,
   "id": "4917ab34",
   "metadata": {},
   "outputs": [],
   "source": [
    "def get_Modified_Z_Score(x, median, MAD):\n",
    "    return 0.6745*(x-median)/MAD"
   ]
  },
  {
   "cell_type": "code",
   "execution_count": 42,
   "id": "cac8fba0",
   "metadata": {},
   "outputs": [
    {
     "data": {
      "text/html": [
       "<div>\n",
       "<style scoped>\n",
       "    .dataframe tbody tr th:only-of-type {\n",
       "        vertical-align: middle;\n",
       "    }\n",
       "\n",
       "    .dataframe tbody tr th {\n",
       "        vertical-align: top;\n",
       "    }\n",
       "\n",
       "    .dataframe thead th {\n",
       "        text-align: right;\n",
       "    }\n",
       "</style>\n",
       "<table border=\"1\" class=\"dataframe\">\n",
       "  <thead>\n",
       "    <tr style=\"text-align: right;\">\n",
       "      <th></th>\n",
       "      <th>Unnamed: 0</th>\n",
       "      <th>realSum</th>\n",
       "      <th>room_type</th>\n",
       "      <th>room_shared</th>\n",
       "      <th>room_private</th>\n",
       "      <th>person_capacity</th>\n",
       "      <th>host_is_superhost</th>\n",
       "      <th>multi</th>\n",
       "      <th>biz</th>\n",
       "      <th>cleanliness_rating</th>\n",
       "      <th>...</th>\n",
       "      <th>dist</th>\n",
       "      <th>metro_dist</th>\n",
       "      <th>attr_index</th>\n",
       "      <th>attr_index_norm</th>\n",
       "      <th>rest_index</th>\n",
       "      <th>rest_index_norm</th>\n",
       "      <th>lng</th>\n",
       "      <th>lat</th>\n",
       "      <th>zscore</th>\n",
       "      <th>Modified_Z_Score</th>\n",
       "    </tr>\n",
       "  </thead>\n",
       "  <tbody>\n",
       "    <tr>\n",
       "      <th>0</th>\n",
       "      <td>0</td>\n",
       "      <td>194.033698</td>\n",
       "      <td>Private room</td>\n",
       "      <td>False</td>\n",
       "      <td>True</td>\n",
       "      <td>2.0</td>\n",
       "      <td>False</td>\n",
       "      <td>1</td>\n",
       "      <td>0</td>\n",
       "      <td>10.0</td>\n",
       "      <td>...</td>\n",
       "      <td>5.022964</td>\n",
       "      <td>2.539380</td>\n",
       "      <td>78.690379</td>\n",
       "      <td>4.166708</td>\n",
       "      <td>98.253896</td>\n",
       "      <td>6.846473</td>\n",
       "      <td>4.90569</td>\n",
       "      <td>52.41772</td>\n",
       "      <td>-0.841747</td>\n",
       "      <td>-1.06068</td>\n",
       "    </tr>\n",
       "    <tr>\n",
       "      <th>1</th>\n",
       "      <td>1</td>\n",
       "      <td>344.245776</td>\n",
       "      <td>Private room</td>\n",
       "      <td>False</td>\n",
       "      <td>True</td>\n",
       "      <td>4.0</td>\n",
       "      <td>False</td>\n",
       "      <td>0</td>\n",
       "      <td>0</td>\n",
       "      <td>8.0</td>\n",
       "      <td>...</td>\n",
       "      <td>0.488389</td>\n",
       "      <td>0.239404</td>\n",
       "      <td>631.176378</td>\n",
       "      <td>33.421209</td>\n",
       "      <td>837.280757</td>\n",
       "      <td>58.342928</td>\n",
       "      <td>4.90005</td>\n",
       "      <td>52.37432</td>\n",
       "      <td>-0.481504</td>\n",
       "      <td>-0.38618</td>\n",
       "    </tr>\n",
       "  </tbody>\n",
       "</table>\n",
       "<p>2 rows × 22 columns</p>\n",
       "</div>"
      ],
      "text/plain": [
       "   Unnamed: 0     realSum     room_type  room_shared  room_private  \\\n",
       "0           0  194.033698  Private room        False          True   \n",
       "1           1  344.245776  Private room        False          True   \n",
       "\n",
       "   person_capacity  host_is_superhost  multi  biz  cleanliness_rating  ...  \\\n",
       "0              2.0              False      1    0                10.0  ...   \n",
       "1              4.0              False      0    0                 8.0  ...   \n",
       "\n",
       "       dist  metro_dist  attr_index  attr_index_norm  rest_index  \\\n",
       "0  5.022964    2.539380   78.690379         4.166708   98.253896   \n",
       "1  0.488389    0.239404  631.176378        33.421209  837.280757   \n",
       "\n",
       "   rest_index_norm      lng       lat    zscore  Modified_Z_Score  \n",
       "0         6.846473  4.90569  52.41772 -0.841747          -1.06068  \n",
       "1        58.342928  4.90005  52.37432 -0.481504          -0.38618  \n",
       "\n",
       "[2 rows x 22 columns]"
      ]
     },
     "execution_count": 42,
     "metadata": {},
     "output_type": "execute_result"
    }
   ],
   "source": [
    "df[\"Modified_Z_Score\"] = df.realSum.apply(lambda x: get_Modified_Z_Score(x, median, MAD))\n",
    "df.head(2)"
   ]
  },
  {
   "cell_type": "code",
   "execution_count": 43,
   "id": "53b0a225",
   "metadata": {},
   "outputs": [
    {
     "data": {
      "text/html": [
       "<div>\n",
       "<style scoped>\n",
       "    .dataframe tbody tr th:only-of-type {\n",
       "        vertical-align: middle;\n",
       "    }\n",
       "\n",
       "    .dataframe tbody tr th {\n",
       "        vertical-align: top;\n",
       "    }\n",
       "\n",
       "    .dataframe thead th {\n",
       "        text-align: right;\n",
       "    }\n",
       "</style>\n",
       "<table border=\"1\" class=\"dataframe\">\n",
       "  <thead>\n",
       "    <tr style=\"text-align: right;\">\n",
       "      <th></th>\n",
       "      <th>Unnamed: 0</th>\n",
       "      <th>realSum</th>\n",
       "      <th>room_type</th>\n",
       "      <th>room_shared</th>\n",
       "      <th>room_private</th>\n",
       "      <th>person_capacity</th>\n",
       "      <th>host_is_superhost</th>\n",
       "      <th>multi</th>\n",
       "      <th>biz</th>\n",
       "      <th>cleanliness_rating</th>\n",
       "      <th>...</th>\n",
       "      <th>dist</th>\n",
       "      <th>metro_dist</th>\n",
       "      <th>attr_index</th>\n",
       "      <th>attr_index_norm</th>\n",
       "      <th>rest_index</th>\n",
       "      <th>rest_index_norm</th>\n",
       "      <th>lng</th>\n",
       "      <th>lat</th>\n",
       "      <th>zscore</th>\n",
       "      <th>Modified_Z_Score</th>\n",
       "    </tr>\n",
       "  </thead>\n",
       "  <tbody>\n",
       "    <tr>\n",
       "      <th>0</th>\n",
       "      <td>0</td>\n",
       "      <td>194.033698</td>\n",
       "      <td>Private room</td>\n",
       "      <td>False</td>\n",
       "      <td>True</td>\n",
       "      <td>2.0</td>\n",
       "      <td>False</td>\n",
       "      <td>1</td>\n",
       "      <td>0</td>\n",
       "      <td>10.0</td>\n",
       "      <td>...</td>\n",
       "      <td>5.022964</td>\n",
       "      <td>2.539380</td>\n",
       "      <td>78.690379</td>\n",
       "      <td>4.166708</td>\n",
       "      <td>98.253896</td>\n",
       "      <td>6.846473</td>\n",
       "      <td>4.90569</td>\n",
       "      <td>52.41772</td>\n",
       "      <td>-0.841747</td>\n",
       "      <td>-1.060680</td>\n",
       "    </tr>\n",
       "    <tr>\n",
       "      <th>1</th>\n",
       "      <td>1</td>\n",
       "      <td>344.245776</td>\n",
       "      <td>Private room</td>\n",
       "      <td>False</td>\n",
       "      <td>True</td>\n",
       "      <td>4.0</td>\n",
       "      <td>False</td>\n",
       "      <td>0</td>\n",
       "      <td>0</td>\n",
       "      <td>8.0</td>\n",
       "      <td>...</td>\n",
       "      <td>0.488389</td>\n",
       "      <td>0.239404</td>\n",
       "      <td>631.176378</td>\n",
       "      <td>33.421209</td>\n",
       "      <td>837.280757</td>\n",
       "      <td>58.342928</td>\n",
       "      <td>4.90005</td>\n",
       "      <td>52.37432</td>\n",
       "      <td>-0.481504</td>\n",
       "      <td>-0.386180</td>\n",
       "    </tr>\n",
       "    <tr>\n",
       "      <th>2</th>\n",
       "      <td>2</td>\n",
       "      <td>264.101422</td>\n",
       "      <td>Private room</td>\n",
       "      <td>False</td>\n",
       "      <td>True</td>\n",
       "      <td>2.0</td>\n",
       "      <td>False</td>\n",
       "      <td>0</td>\n",
       "      <td>1</td>\n",
       "      <td>9.0</td>\n",
       "      <td>...</td>\n",
       "      <td>5.748312</td>\n",
       "      <td>3.651621</td>\n",
       "      <td>75.275877</td>\n",
       "      <td>3.985908</td>\n",
       "      <td>95.386955</td>\n",
       "      <td>6.646700</td>\n",
       "      <td>4.97512</td>\n",
       "      <td>52.36103</td>\n",
       "      <td>-0.673708</td>\n",
       "      <td>-0.746054</td>\n",
       "    </tr>\n",
       "    <tr>\n",
       "      <th>3</th>\n",
       "      <td>3</td>\n",
       "      <td>433.529398</td>\n",
       "      <td>Private room</td>\n",
       "      <td>False</td>\n",
       "      <td>True</td>\n",
       "      <td>4.0</td>\n",
       "      <td>False</td>\n",
       "      <td>0</td>\n",
       "      <td>1</td>\n",
       "      <td>9.0</td>\n",
       "      <td>...</td>\n",
       "      <td>0.384862</td>\n",
       "      <td>0.439876</td>\n",
       "      <td>493.272534</td>\n",
       "      <td>26.119108</td>\n",
       "      <td>875.033098</td>\n",
       "      <td>60.973565</td>\n",
       "      <td>4.89417</td>\n",
       "      <td>52.37663</td>\n",
       "      <td>-0.267381</td>\n",
       "      <td>0.014732</td>\n",
       "    </tr>\n",
       "    <tr>\n",
       "      <th>4</th>\n",
       "      <td>4</td>\n",
       "      <td>485.552926</td>\n",
       "      <td>Private room</td>\n",
       "      <td>False</td>\n",
       "      <td>True</td>\n",
       "      <td>2.0</td>\n",
       "      <td>True</td>\n",
       "      <td>0</td>\n",
       "      <td>0</td>\n",
       "      <td>10.0</td>\n",
       "      <td>...</td>\n",
       "      <td>0.544738</td>\n",
       "      <td>0.318693</td>\n",
       "      <td>552.830324</td>\n",
       "      <td>29.272733</td>\n",
       "      <td>815.305740</td>\n",
       "      <td>56.811677</td>\n",
       "      <td>4.90051</td>\n",
       "      <td>52.37508</td>\n",
       "      <td>-0.142617</td>\n",
       "      <td>0.248334</td>\n",
       "    </tr>\n",
       "    <tr>\n",
       "      <th>...</th>\n",
       "      <td>...</td>\n",
       "      <td>...</td>\n",
       "      <td>...</td>\n",
       "      <td>...</td>\n",
       "      <td>...</td>\n",
       "      <td>...</td>\n",
       "      <td>...</td>\n",
       "      <td>...</td>\n",
       "      <td>...</td>\n",
       "      <td>...</td>\n",
       "      <td>...</td>\n",
       "      <td>...</td>\n",
       "      <td>...</td>\n",
       "      <td>...</td>\n",
       "      <td>...</td>\n",
       "      <td>...</td>\n",
       "      <td>...</td>\n",
       "      <td>...</td>\n",
       "      <td>...</td>\n",
       "      <td>...</td>\n",
       "      <td>...</td>\n",
       "    </tr>\n",
       "    <tr>\n",
       "      <th>1098</th>\n",
       "      <td>1098</td>\n",
       "      <td>2486.115342</td>\n",
       "      <td>Entire home/apt</td>\n",
       "      <td>False</td>\n",
       "      <td>False</td>\n",
       "      <td>2.0</td>\n",
       "      <td>False</td>\n",
       "      <td>0</td>\n",
       "      <td>0</td>\n",
       "      <td>10.0</td>\n",
       "      <td>...</td>\n",
       "      <td>2.375833</td>\n",
       "      <td>1.436054</td>\n",
       "      <td>181.198355</td>\n",
       "      <td>9.594573</td>\n",
       "      <td>225.304203</td>\n",
       "      <td>15.699521</td>\n",
       "      <td>4.85869</td>\n",
       "      <td>52.37677</td>\n",
       "      <td>4.655190</td>\n",
       "      <td>9.231495</td>\n",
       "    </tr>\n",
       "    <tr>\n",
       "      <th>1099</th>\n",
       "      <td>1099</td>\n",
       "      <td>233.637194</td>\n",
       "      <td>Private room</td>\n",
       "      <td>False</td>\n",
       "      <td>True</td>\n",
       "      <td>2.0</td>\n",
       "      <td>False</td>\n",
       "      <td>1</td>\n",
       "      <td>0</td>\n",
       "      <td>10.0</td>\n",
       "      <td>...</td>\n",
       "      <td>4.719736</td>\n",
       "      <td>0.322263</td>\n",
       "      <td>108.024880</td>\n",
       "      <td>5.719989</td>\n",
       "      <td>134.775277</td>\n",
       "      <td>9.391335</td>\n",
       "      <td>4.83611</td>\n",
       "      <td>52.34910</td>\n",
       "      <td>-0.746769</td>\n",
       "      <td>-0.882848</td>\n",
       "    </tr>\n",
       "    <tr>\n",
       "      <th>1100</th>\n",
       "      <td>1100</td>\n",
       "      <td>317.062311</td>\n",
       "      <td>Private room</td>\n",
       "      <td>False</td>\n",
       "      <td>True</td>\n",
       "      <td>2.0</td>\n",
       "      <td>False</td>\n",
       "      <td>1</td>\n",
       "      <td>0</td>\n",
       "      <td>10.0</td>\n",
       "      <td>...</td>\n",
       "      <td>0.598355</td>\n",
       "      <td>0.751993</td>\n",
       "      <td>440.476515</td>\n",
       "      <td>23.323524</td>\n",
       "      <td>625.947562</td>\n",
       "      <td>43.616927</td>\n",
       "      <td>4.88897</td>\n",
       "      <td>52.37798</td>\n",
       "      <td>-0.546696</td>\n",
       "      <td>-0.508243</td>\n",
       "    </tr>\n",
       "    <tr>\n",
       "      <th>1101</th>\n",
       "      <td>1101</td>\n",
       "      <td>1812.855904</td>\n",
       "      <td>Entire home/apt</td>\n",
       "      <td>False</td>\n",
       "      <td>False</td>\n",
       "      <td>4.0</td>\n",
       "      <td>False</td>\n",
       "      <td>0</td>\n",
       "      <td>0</td>\n",
       "      <td>8.0</td>\n",
       "      <td>...</td>\n",
       "      <td>1.943020</td>\n",
       "      <td>0.388532</td>\n",
       "      <td>257.948105</td>\n",
       "      <td>13.658524</td>\n",
       "      <td>336.589237</td>\n",
       "      <td>23.454022</td>\n",
       "      <td>4.90688</td>\n",
       "      <td>52.35794</td>\n",
       "      <td>3.040560</td>\n",
       "      <td>6.208346</td>\n",
       "    </tr>\n",
       "    <tr>\n",
       "      <th>1102</th>\n",
       "      <td>1102</td>\n",
       "      <td>258.008577</td>\n",
       "      <td>Shared room</td>\n",
       "      <td>True</td>\n",
       "      <td>False</td>\n",
       "      <td>2.0</td>\n",
       "      <td>False</td>\n",
       "      <td>0</td>\n",
       "      <td>0</td>\n",
       "      <td>8.0</td>\n",
       "      <td>...</td>\n",
       "      <td>0.280204</td>\n",
       "      <td>0.516217</td>\n",
       "      <td>533.962653</td>\n",
       "      <td>28.273677</td>\n",
       "      <td>807.492307</td>\n",
       "      <td>56.267226</td>\n",
       "      <td>4.89295</td>\n",
       "      <td>52.37575</td>\n",
       "      <td>-0.688320</td>\n",
       "      <td>-0.773413</td>\n",
       "    </tr>\n",
       "  </tbody>\n",
       "</table>\n",
       "<p>1103 rows × 22 columns</p>\n",
       "</div>"
      ],
      "text/plain": [
       "      Unnamed: 0      realSum        room_type  room_shared  room_private  \\\n",
       "0              0   194.033698     Private room        False          True   \n",
       "1              1   344.245776     Private room        False          True   \n",
       "2              2   264.101422     Private room        False          True   \n",
       "3              3   433.529398     Private room        False          True   \n",
       "4              4   485.552926     Private room        False          True   \n",
       "...          ...          ...              ...          ...           ...   \n",
       "1098        1098  2486.115342  Entire home/apt        False         False   \n",
       "1099        1099   233.637194     Private room        False          True   \n",
       "1100        1100   317.062311     Private room        False          True   \n",
       "1101        1101  1812.855904  Entire home/apt        False         False   \n",
       "1102        1102   258.008577      Shared room         True         False   \n",
       "\n",
       "      person_capacity  host_is_superhost  multi  biz  cleanliness_rating  ...  \\\n",
       "0                 2.0              False      1    0                10.0  ...   \n",
       "1                 4.0              False      0    0                 8.0  ...   \n",
       "2                 2.0              False      0    1                 9.0  ...   \n",
       "3                 4.0              False      0    1                 9.0  ...   \n",
       "4                 2.0               True      0    0                10.0  ...   \n",
       "...               ...                ...    ...  ...                 ...  ...   \n",
       "1098              2.0              False      0    0                10.0  ...   \n",
       "1099              2.0              False      1    0                10.0  ...   \n",
       "1100              2.0              False      1    0                10.0  ...   \n",
       "1101              4.0              False      0    0                 8.0  ...   \n",
       "1102              2.0              False      0    0                 8.0  ...   \n",
       "\n",
       "          dist  metro_dist  attr_index  attr_index_norm  rest_index  \\\n",
       "0     5.022964    2.539380   78.690379         4.166708   98.253896   \n",
       "1     0.488389    0.239404  631.176378        33.421209  837.280757   \n",
       "2     5.748312    3.651621   75.275877         3.985908   95.386955   \n",
       "3     0.384862    0.439876  493.272534        26.119108  875.033098   \n",
       "4     0.544738    0.318693  552.830324        29.272733  815.305740   \n",
       "...        ...         ...         ...              ...         ...   \n",
       "1098  2.375833    1.436054  181.198355         9.594573  225.304203   \n",
       "1099  4.719736    0.322263  108.024880         5.719989  134.775277   \n",
       "1100  0.598355    0.751993  440.476515        23.323524  625.947562   \n",
       "1101  1.943020    0.388532  257.948105        13.658524  336.589237   \n",
       "1102  0.280204    0.516217  533.962653        28.273677  807.492307   \n",
       "\n",
       "      rest_index_norm      lng       lat    zscore  Modified_Z_Score  \n",
       "0            6.846473  4.90569  52.41772 -0.841747         -1.060680  \n",
       "1           58.342928  4.90005  52.37432 -0.481504         -0.386180  \n",
       "2            6.646700  4.97512  52.36103 -0.673708         -0.746054  \n",
       "3           60.973565  4.89417  52.37663 -0.267381          0.014732  \n",
       "4           56.811677  4.90051  52.37508 -0.142617          0.248334  \n",
       "...               ...      ...       ...       ...               ...  \n",
       "1098        15.699521  4.85869  52.37677  4.655190          9.231495  \n",
       "1099         9.391335  4.83611  52.34910 -0.746769         -0.882848  \n",
       "1100        43.616927  4.88897  52.37798 -0.546696         -0.508243  \n",
       "1101        23.454022  4.90688  52.35794  3.040560          6.208346  \n",
       "1102        56.267226  4.89295  52.37575 -0.688320         -0.773413  \n",
       "\n",
       "[1103 rows x 22 columns]"
      ]
     },
     "execution_count": 43,
     "metadata": {},
     "output_type": "execute_result"
    }
   ],
   "source": [
    "df[df.Modified_Z_Score > -2]"
   ]
  },
  {
   "cell_type": "code",
   "execution_count": 45,
   "id": "712bd3bc",
   "metadata": {},
   "outputs": [
    {
     "data": {
      "text/plain": [
       "(960, 22)"
      ]
     },
     "execution_count": 45,
     "metadata": {},
     "output_type": "execute_result"
    }
   ],
   "source": [
    "modified_Z_Score = df[df.Modified_Z_Score < 2]\n",
    "modified_Z_Score.shape"
   ]
  },
  {
   "cell_type": "code",
   "execution_count": 46,
   "id": "74beaba8",
   "metadata": {},
   "outputs": [
    {
     "data": {
      "text/plain": [
       "(143, 22)"
      ]
     },
     "execution_count": 46,
     "metadata": {},
     "output_type": "execute_result"
    }
   ],
   "source": [
    "no_outlier = df[ (df.Modified_Z_Score < -2) | (df.Modified_Z_Score > 2)]\n",
    "no_outlier.shape"
   ]
  },
  {
   "cell_type": "code",
   "execution_count": 47,
   "id": "d82b6cb1",
   "metadata": {},
   "outputs": [
    {
     "data": {
      "text/plain": [
       "(960, 22)"
      ]
     },
     "execution_count": 47,
     "metadata": {},
     "output_type": "execute_result"
    }
   ],
   "source": [
    "no_outlier = df[ (df.Modified_Z_Score > -2) & (df.Modified_Z_Score < 2)]\n",
    "no_outlier.shape"
   ]
  },
  {
   "cell_type": "code",
   "execution_count": 50,
   "id": "e2043cc6",
   "metadata": {},
   "outputs": [
    {
     "data": {
      "text/plain": [
       "<AxesSubplot:xlabel='Modified_Z_Score', ylabel='Count'>"
      ]
     },
     "execution_count": 50,
     "metadata": {},
     "output_type": "execute_result"
    },
    {
     "data": {
      "image/png": "[encoded data removed]",
      "text/plain": [
       "<Figure size 640x480 with 1 Axes>"
      ]
     },
     "metadata": {},
     "output_type": "display_data"
    }
   ],
   "source": [
    "sn.histplot(no_outlier.Modified_Z_Score, kde=True)"
   ]
  },
  {
   "cell_type": "code",
   "execution_count": 53,
   "id": "81b751a4",
   "metadata": {},
   "outputs": [
    {
     "data": {
      "text/plain": [
       "<AxesSubplot:xlabel='Modified_Z_Score'>"
      ]
     },
     "execution_count": 53,
     "metadata": {},
     "output_type": "execute_result"
    },
    {
     "data": {
      "image/png": "[encoded data removed]",
      "text/plain": [
       "<Figure size 640x480 with 1 Axes>"
      ]
     },
     "metadata": {},
     "output_type": "display_data"
    }
   ],
   "source": [
    "sn.boxplot(x = no_outlier.Modified_Z_Score)"
   ]
  },
  {
   "cell_type": "code",
   "execution_count": 59,
   "id": "f27801da",
   "metadata": {},
   "outputs": [
    {
     "data": {
      "text/plain": [
       "<AxesSubplot:xlabel='room_type', ylabel='Modified_Z_Score'>"
      ]
     },
     "execution_count": 59,
     "metadata": {},
     "output_type": "execute_result"
    },
    {
     "data": {
      "image/png": "[encoded data removed]",
      "text/plain": [
       "<Figure size 640x480 with 1 Axes>"
      ]
     },
     "metadata": {},
     "output_type": "display_data"
    }
   ],
   "source": [
    "sn.boxplot(data=no_outlier, y=\"Modified_Z_Score\", x=\"room_type\", hue=\"room_private\")\n"
   ]
  },
  {
   "cell_type": "code",
   "execution_count": 73,
   "id": "a817889d",
   "metadata": {},
   "outputs": [
    {
     "data": {
      "text/plain": [
       "(580, 22)"
      ]
     },
     "execution_count": 73,
     "metadata": {},
     "output_type": "execute_result"
    }
   ],
   "source": [
    "no_outlier = df[ (df.Modified_Z_Score > -.7) & (df.Modified_Z_Score < 0.7)]\n",
    "no_outlier.shape"
   ]
  },
  {
   "cell_type": "code",
   "execution_count": 74,
   "id": "f54aca44",
   "metadata": {},
   "outputs": [
    {
     "data": {
      "text/plain": [
       "<AxesSubplot:xlabel='room_type', ylabel='Modified_Z_Score'>"
      ]
     },
     "execution_count": 74,
     "metadata": {},
     "output_type": "execute_result"
    },
    {
     "data": {
      "image/png": "[encoded data removed]",
      "text/plain": [
       "<Figure size 640x480 with 1 Axes>"
      ]
     },
     "metadata": {},
     "output_type": "display_data"
    }
   ],
   "source": [
    "sn.boxplot(data=no_outlier, y=\"Modified_Z_Score\", x=\"room_type\", hue=\"room_private\")\n"
   ]
  }
 ],
 "metadata": {
  "kernelspec": {
   "display_name": "Python 3 (ipykernel)",
   "language": "python",
   "name": "python3"
  },
  "language_info": {
   "codemirror_mode": {
    "name": "ipython",
    "version": 3
   },
   "file_extension": ".py",
   "mimetype": "text/x-python",
   "name": "python",
   "nbconvert_exporter": "python",
   "pygments_lexer": "ipython3",
   "version": "3.9.13"
  }
 },
 "nbformat": 4,
 "nbformat_minor": 5
}
